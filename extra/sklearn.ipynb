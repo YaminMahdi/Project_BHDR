{
 "cells": [
  {
   "cell_type": "code",
   "execution_count": 9,
   "metadata": {},
   "outputs": [],
   "source": [
    "from sklearn import datasets   \n",
    "import numpy as np\n",
    "\n",
    "iris = datasets.load_iris\n",
    "X= iris.data\n",
    "y= iris.target"
   ]
  },
  {
   "cell_type": "code",
   "execution_count": 8,
   "metadata": {},
   "outputs": [
    {
     "name": "stdout",
     "output_type": "stream",
     "text": [
      "{'data': array([[5.1, 3.5, 1.4, 0.2],\n",
      "       [4.9, 3. , 1.4, 0.2],\n",
      "       [4.7, 3.2, 1.3, 0.2],\n",
      "       [4.6, 3.1, 1.5, 0.2],\n",
      "       [5. , 3.6, 1.4, 0.2],\n",
      "       [5.4, 3.9, 1.7, 0.4],\n",
      "       [4.6, 3.4, 1.4, 0.3],\n",
      "       [5. , 3.4, 1.5, 0.2],\n",
      "       [4.4, 2.9, 1.4, 0.2],\n",
      "       [4.9, 3.1, 1.5, 0.1],\n",
      "       [5.4, 3.7, 1.5, 0.2],\n",
      "       [4.8, 3.4, 1.6, 0.2],\n",
      "       [4.8, 3. , 1.4, 0.1],\n",
      "       [4.3, 3. , 1.1, 0.1],\n",
      "       [5.8, 4. , 1.2, 0.2],\n",
      "       [5.7, 4.4, 1.5, 0.4],\n",
      "       [5.4, 3.9, 1.3, 0.4],\n",
      "       [5.1, 3.5, 1.4, 0.3],\n",
      "       [5.7, 3.8, 1.7, 0.3],\n",
      "       [5.1, 3.8, 1.5, 0.3],\n",
      "       [5.4, 3.4, 1.7, 0.2],\n",
      "       [5.1, 3.7, 1.5, 0.4],\n",
      "       [4.6, 3.6, 1. , 0.2],\n",
      "       [5.1, 3.3, 1.7, 0.5],\n",
      "       [4.8, 3.4, 1.9, 0.2],\n",
      "       [5. , 3. , 1.6, 0.2],\n",
      "       [5. , 3.4, 1.6, 0.4],\n",
      "       [5.2, 3.5, 1.5, 0.2],\n",
      "       [5.2, 3.4, 1.4, 0.2],\n",
      "       [4.7, 3.2, 1.6, 0.2],\n",
      "       [4.8, 3.1, 1.6, 0.2],\n",
      "       [5.4, 3.4, 1.5, 0.4],\n",
      "       [5.2, 4.1, 1.5, 0.1],\n",
      "       [5.5, 4.2, 1.4, 0.2],\n",
      "       [4.9, 3.1, 1.5, 0.2],\n",
      "       [5. , 3.2, 1.2, 0.2],\n",
      "       [5.5, 3.5, 1.3, 0.2],\n",
      "       [4.9, 3.6, 1.4, 0.1],\n",
      "       [4.4, 3. , 1.3, 0.2],\n",
      "       [5.1, 3.4, 1.5, 0.2],\n",
      "       [5. , 3.5, 1.3, 0.3],\n",
      "       [4.5, 2.3, 1.3, 0.3],\n",
      "       [4.4, 3.2, 1.3, 0.2],\n",
      "       [5. , 3.5, 1.6, 0.6],\n",
      "       [5.1, 3.8, 1.9, 0.4],\n",
      "       [4.8, 3. , 1.4, 0.3],\n",
      "       [5.1, 3.8, 1.6, 0.2],\n",
      "       [4.6, 3.2, 1.4, 0.2],\n",
      "       [5.3, 3.7, 1.5, 0.2],\n",
      "       [5. , 3.3, 1.4, 0.2],\n",
      "       [7. , 3.2, 4.7, 1.4],\n",
      "       [6.4, 3.2, 4.5, 1.5],\n",
      "       [6.9, 3.1, 4.9, 1.5],\n",
      "       [5.5, 2.3, 4. , 1.3],\n",
      "       [6.5, 2.8, 4.6, 1.5],\n",
      "       [5.7, 2.8, 4.5, 1.3],\n",
      "       [6.3, 3.3, 4.7, 1.6],\n",
      "       [4.9, 2.4, 3.3, 1. ],\n",
      "       [6.6, 2.9, 4.6, 1.3],\n",
      "       [5.2, 2.7, 3.9, 1.4],\n",
      "       [5. , 2. , 3.5, 1. ],\n",
      "       [5.9, 3. , 4.2, 1.5],\n",
      "       [6. , 2.2, 4. , 1. ],\n",
      "       [6.1, 2.9, 4.7, 1.4],\n",
      "       [5.6, 2.9, 3.6, 1.3],\n",
      "       [6.7, 3.1, 4.4, 1.4],\n",
      "       [5.6, 3. , 4.5, 1.5],\n",
      "       [5.8, 2.7, 4.1, 1. ],\n",
      "       [6.2, 2.2, 4.5, 1.5],\n",
      "       [5.6, 2.5, 3.9, 1.1],\n",
      "       [5.9, 3.2, 4.8, 1.8],\n",
      "       [6.1, 2.8, 4. , 1.3],\n",
      "       [6.3, 2.5, 4.9, 1.5],\n",
      "       [6.1, 2.8, 4.7, 1.2],\n",
      "       [6.4, 2.9, 4.3, 1.3],\n",
      "       [6.6, 3. , 4.4, 1.4],\n",
      "       [6.8, 2.8, 4.8, 1.4],\n",
      "       [6.7, 3. , 5. , 1.7],\n",
      "       [6. , 2.9, 4.5, 1.5],\n",
      "       [5.7, 2.6, 3.5, 1. ],\n",
      "       [5.5, 2.4, 3.8, 1.1],\n",
      "       [5.5, 2.4, 3.7, 1. ],\n",
      "       [5.8, 2.7, 3.9, 1.2],\n",
      "       [6. , 2.7, 5.1, 1.6],\n",
      "       [5.4, 3. , 4.5, 1.5],\n",
      "       [6. , 3.4, 4.5, 1.6],\n",
      "       [6.7, 3.1, 4.7, 1.5],\n",
      "       [6.3, 2.3, 4.4, 1.3],\n",
      "       [5.6, 3. , 4.1, 1.3],\n",
      "       [5.5, 2.5, 4. , 1.3],\n",
      "       [5.5, 2.6, 4.4, 1.2],\n",
      "       [6.1, 3. , 4.6, 1.4],\n",
      "       [5.8, 2.6, 4. , 1.2],\n",
      "       [5. , 2.3, 3.3, 1. ],\n",
      "       [5.6, 2.7, 4.2, 1.3],\n",
      "       [5.7, 3. , 4.2, 1.2],\n",
      "       [5.7, 2.9, 4.2, 1.3],\n",
      "       [6.2, 2.9, 4.3, 1.3],\n",
      "       [5.1, 2.5, 3. , 1.1],\n",
      "       [5.7, 2.8, 4.1, 1.3],\n",
      "       [6.3, 3.3, 6. , 2.5],\n",
      "       [5.8, 2.7, 5.1, 1.9],\n",
      "       [7.1, 3. , 5.9, 2.1],\n",
      "       [6.3, 2.9, 5.6, 1.8],\n",
      "       [6.5, 3. , 5.8, 2.2],\n",
      "       [7.6, 3. , 6.6, 2.1],\n",
      "       [4.9, 2.5, 4.5, 1.7],\n",
      "       [7.3, 2.9, 6.3, 1.8],\n",
      "       [6.7, 2.5, 5.8, 1.8],\n",
      "       [7.2, 3.6, 6.1, 2.5],\n",
      "       [6.5, 3.2, 5.1, 2. ],\n",
      "       [6.4, 2.7, 5.3, 1.9],\n",
      "       [6.8, 3. , 5.5, 2.1],\n",
      "       [5.7, 2.5, 5. , 2. ],\n",
      "       [5.8, 2.8, 5.1, 2.4],\n",
      "       [6.4, 3.2, 5.3, 2.3],\n",
      "       [6.5, 3. , 5.5, 1.8],\n",
      "       [7.7, 3.8, 6.7, 2.2],\n",
      "       [7.7, 2.6, 6.9, 2.3],\n",
      "       [6. , 2.2, 5. , 1.5],\n",
      "       [6.9, 3.2, 5.7, 2.3],\n",
      "       [5.6, 2.8, 4.9, 2. ],\n",
      "       [7.7, 2.8, 6.7, 2. ],\n",
      "       [6.3, 2.7, 4.9, 1.8],\n",
      "       [6.7, 3.3, 5.7, 2.1],\n",
      "       [7.2, 3.2, 6. , 1.8],\n",
      "       [6.2, 2.8, 4.8, 1.8],\n",
      "       [6.1, 3. , 4.9, 1.8],\n",
      "       [6.4, 2.8, 5.6, 2.1],\n",
      "       [7.2, 3. , 5.8, 1.6],\n",
      "       [7.4, 2.8, 6.1, 1.9],\n",
      "       [7.9, 3.8, 6.4, 2. ],\n",
      "       [6.4, 2.8, 5.6, 2.2],\n",
      "       [6.3, 2.8, 5.1, 1.5],\n",
      "       [6.1, 2.6, 5.6, 1.4],\n",
      "       [7.7, 3. , 6.1, 2.3],\n",
      "       [6.3, 3.4, 5.6, 2.4],\n",
      "       [6.4, 3.1, 5.5, 1.8],\n",
      "       [6. , 3. , 4.8, 1.8],\n",
      "       [6.9, 3.1, 5.4, 2.1],\n",
      "       [6.7, 3.1, 5.6, 2.4],\n",
      "       [6.9, 3.1, 5.1, 2.3],\n",
      "       [5.8, 2.7, 5.1, 1.9],\n",
      "       [6.8, 3.2, 5.9, 2.3],\n",
      "       [6.7, 3.3, 5.7, 2.5],\n",
      "       [6.7, 3. , 5.2, 2.3],\n",
      "       [6.3, 2.5, 5. , 1.9],\n",
      "       [6.5, 3. , 5.2, 2. ],\n",
      "       [6.2, 3.4, 5.4, 2.3],\n",
      "       [5.9, 3. , 5.1, 1.8]]), 'target': array([0, 0, 0, 0, 0, 0, 0, 0, 0, 0, 0, 0, 0, 0, 0, 0, 0, 0, 0, 0, 0, 0,\n",
      "       0, 0, 0, 0, 0, 0, 0, 0, 0, 0, 0, 0, 0, 0, 0, 0, 0, 0, 0, 0, 0, 0,\n",
      "       0, 0, 0, 0, 0, 0, 1, 1, 1, 1, 1, 1, 1, 1, 1, 1, 1, 1, 1, 1, 1, 1,\n",
      "       1, 1, 1, 1, 1, 1, 1, 1, 1, 1, 1, 1, 1, 1, 1, 1, 1, 1, 1, 1, 1, 1,\n",
      "       1, 1, 1, 1, 1, 1, 1, 1, 1, 1, 1, 1, 2, 2, 2, 2, 2, 2, 2, 2, 2, 2,\n",
      "       2, 2, 2, 2, 2, 2, 2, 2, 2, 2, 2, 2, 2, 2, 2, 2, 2, 2, 2, 2, 2, 2,\n",
      "       2, 2, 2, 2, 2, 2, 2, 2, 2, 2, 2, 2, 2, 2, 2, 2, 2, 2]), 'frame': None, 'target_names': array(['setosa', 'versicolor', 'virginica'], dtype='<U10'), 'DESCR': '.. _iris_dataset:\\n\\nIris plants dataset\\n--------------------\\n\\n**Data Set Characteristics:**\\n\\n    :Number of Instances: 150 (50 in each of three classes)\\n    :Number of Attributes: 4 numeric, predictive attributes and the class\\n    :Attribute Information:\\n        - sepal length in cm\\n        - sepal width in cm\\n        - petal length in cm\\n        - petal width in cm\\n        - class:\\n                - Iris-Setosa\\n                - Iris-Versicolour\\n                - Iris-Virginica\\n                \\n    :Summary Statistics:\\n\\n    ============== ==== ==== ======= ===== ====================\\n                    Min  Max   Mean    SD   Class Correlation\\n    ============== ==== ==== ======= ===== ====================\\n    sepal length:   4.3  7.9   5.84   0.83    0.7826\\n    sepal width:    2.0  4.4   3.05   0.43   -0.4194\\n    petal length:   1.0  6.9   3.76   1.76    0.9490  (high!)\\n    petal width:    0.1  2.5   1.20   0.76    0.9565  (high!)\\n    ============== ==== ==== ======= ===== ====================\\n\\n    :Missing Attribute Values: None\\n    :Class Distribution: 33.3% for each of 3 classes.\\n    :Creator: R.A. Fisher\\n    :Donor: Michael Marshall (MARSHALL%PLU@io.arc.nasa.gov)\\n    :Date: July, 1988\\n\\nThe famous Iris database, first used by Sir R.A. Fisher. The dataset is taken\\nfrom Fisher\\'s paper. Note that it\\'s the same as in R, but not as in the UCI\\nMachine Learning Repository, which has two wrong data points.\\n\\nThis is perhaps the best known database to be found in the\\npattern recognition literature.  Fisher\\'s paper is a classic in the field and\\nis referenced frequently to this day.  (See Duda & Hart, for example.)  The\\ndata set contains 3 classes of 50 instances each, where each class refers to a\\ntype of iris plant.  One class is linearly separable from the other 2; the\\nlatter are NOT linearly separable from each other.\\n\\n.. topic:: References\\n\\n   - Fisher, R.A. \"The use of multiple measurements in taxonomic problems\"\\n     Annual Eugenics, 7, Part II, 179-188 (1936); also in \"Contributions to\\n     Mathematical Statistics\" (John Wiley, NY, 1950).\\n   - Duda, R.O., & Hart, P.E. (1973) Pattern Classification and Scene Analysis.\\n     (Q327.D83) John Wiley & Sons.  ISBN 0-471-22361-1.  See page 218.\\n   - Dasarathy, B.V. (1980) \"Nosing Around the Neighborhood: A New System\\n     Structure and Classification Rule for Recognition in Partially Exposed\\n     Environments\".  IEEE Transactions on Pattern Analysis and Machine\\n     Intelligence, Vol. PAMI-2, No. 1, 67-71.\\n   - Gates, G.W. (1972) \"The Reduced Nearest Neighbor Rule\".  IEEE Transactions\\n     on Information Theory, May 1972, 431-433.\\n   - See also: 1988 MLC Proceedings, 54-64.  Cheeseman et al\"s AUTOCLASS II\\n     conceptual clustering system finds 3 classes in the data.\\n   - Many, many more ...', 'feature_names': ['sepal length (cm)', 'sepal width (cm)', 'petal length (cm)', 'petal width (cm)'], 'filename': 'iris.csv', 'data_module': 'sklearn.datasets.data'}\n"
     ]
    }
   ],
   "source": [
    "print(iris)"
   ]
  },
  {
   "cell_type": "code",
   "execution_count": 10,
   "metadata": {},
   "outputs": [
    {
     "name": "stdout",
     "output_type": "stream",
     "text": [
      "[('__all__', ['clear_data_home', 'dump_svmlight_file', 'fetch_20newsgroups', 'fetch_20newsgroups_vectorized', 'fetch_lfw_pairs', 'fetch_lfw_people', 'fetch_olivetti_faces', 'fetch_species_distributions', 'fetch_california_housing', 'fetch_covtype', 'fetch_rcv1', 'fetch_kddcup99', 'fetch_openml', 'get_data_home', 'load_boston', 'load_diabetes', 'load_digits', 'load_files', 'load_iris', 'load_breast_cancer', 'load_linnerud', 'load_sample_image', 'load_sample_images', 'load_svmlight_file', 'load_svmlight_files', 'load_wine', 'make_biclusters', 'make_blobs', 'make_circles', 'make_classification', 'make_checkerboard', 'make_friedman1', 'make_friedman2', 'make_friedman3', 'make_gaussian_quantiles', 'make_hastie_10_2', 'make_low_rank_matrix', 'make_moons', 'make_multilabel_classification', 'make_regression', 'make_s_curve', 'make_sparse_coded_signal', 'make_sparse_spd_matrix', 'make_sparse_uncorrelated', 'make_spd_matrix', 'make_swiss_roll']), ('__builtins__', {'__name__': 'builtins', '__doc__': \"Built-in functions, exceptions, and other objects.\\n\\nNoteworthy: None is the `nil' object; Ellipsis represents `...' in slices.\", '__package__': '', '__loader__': <class '_frozen_importlib.BuiltinImporter'>, '__spec__': ModuleSpec(name='builtins', loader=<class '_frozen_importlib.BuiltinImporter'>, origin='built-in'), '__build_class__': <built-in function __build_class__>, '__import__': <built-in function __import__>, 'abs': <built-in function abs>, 'all': <built-in function all>, 'any': <built-in function any>, 'ascii': <built-in function ascii>, 'bin': <built-in function bin>, 'breakpoint': <built-in function breakpoint>, 'callable': <built-in function callable>, 'chr': <built-in function chr>, 'compile': <built-in function compile>, 'delattr': <built-in function delattr>, 'dir': <built-in function dir>, 'divmod': <built-in function divmod>, 'eval': <built-in function eval>, 'exec': <built-in function exec>, 'format': <built-in function format>, 'getattr': <built-in function getattr>, 'globals': <built-in function globals>, 'hasattr': <built-in function hasattr>, 'hash': <built-in function hash>, 'hex': <built-in function hex>, 'id': <built-in function id>, 'input': <bound method Kernel.raw_input of <ipykernel.ipkernel.IPythonKernel object at 0x7f482bde71c0>>, 'isinstance': <built-in function isinstance>, 'issubclass': <built-in function issubclass>, 'iter': <built-in function iter>, 'len': <built-in function len>, 'locals': <built-in function locals>, 'max': <built-in function max>, 'min': <built-in function min>, 'next': <built-in function next>, 'oct': <built-in function oct>, 'ord': <built-in function ord>, 'pow': <built-in function pow>, 'print': <built-in function print>, 'repr': <built-in function repr>, 'round': <built-in function round>, 'setattr': <built-in function setattr>, 'sorted': <built-in function sorted>, 'sum': <built-in function sum>, 'vars': <built-in function vars>, 'None': None, 'Ellipsis': Ellipsis, 'NotImplemented': NotImplemented, 'False': False, 'True': True, 'bool': <class 'bool'>, 'memoryview': <class 'memoryview'>, 'bytearray': <class 'bytearray'>, 'bytes': <class 'bytes'>, 'classmethod': <class 'classmethod'>, 'complex': <class 'complex'>, 'dict': <class 'dict'>, 'enumerate': <class 'enumerate'>, 'filter': <class 'filter'>, 'float': <class 'float'>, 'frozenset': <class 'frozenset'>, 'property': <class 'property'>, 'int': <class 'int'>, 'list': <class 'list'>, 'map': <class 'map'>, 'object': <class 'object'>, 'range': <class 'range'>, 'reversed': <class 'reversed'>, 'set': <class 'set'>, 'slice': <class 'slice'>, 'staticmethod': <class 'staticmethod'>, 'str': <class 'str'>, 'super': <class 'super'>, 'tuple': <class 'tuple'>, 'type': <class 'type'>, 'zip': <class 'zip'>, '__debug__': True, 'BaseException': <class 'BaseException'>, 'Exception': <class 'Exception'>, 'TypeError': <class 'TypeError'>, 'StopAsyncIteration': <class 'StopAsyncIteration'>, 'StopIteration': <class 'StopIteration'>, 'GeneratorExit': <class 'GeneratorExit'>, 'SystemExit': <class 'SystemExit'>, 'KeyboardInterrupt': <class 'KeyboardInterrupt'>, 'ImportError': <class 'ImportError'>, 'ModuleNotFoundError': <class 'ModuleNotFoundError'>, 'OSError': <class 'OSError'>, 'EnvironmentError': <class 'OSError'>, 'IOError': <class 'OSError'>, 'EOFError': <class 'EOFError'>, 'RuntimeError': <class 'RuntimeError'>, 'RecursionError': <class 'RecursionError'>, 'NotImplementedError': <class 'NotImplementedError'>, 'NameError': <class 'NameError'>, 'UnboundLocalError': <class 'UnboundLocalError'>, 'AttributeError': <class 'AttributeError'>, 'SyntaxError': <class 'SyntaxError'>, 'IndentationError': <class 'IndentationError'>, 'TabError': <class 'TabError'>, 'LookupError': <class 'LookupError'>, 'IndexError': <class 'IndexError'>, 'KeyError': <class 'KeyError'>, 'ValueError': <class 'ValueError'>, 'UnicodeError': <class 'UnicodeError'>, 'UnicodeEncodeError': <class 'UnicodeEncodeError'>, 'UnicodeDecodeError': <class 'UnicodeDecodeError'>, 'UnicodeTranslateError': <class 'UnicodeTranslateError'>, 'AssertionError': <class 'AssertionError'>, 'ArithmeticError': <class 'ArithmeticError'>, 'FloatingPointError': <class 'FloatingPointError'>, 'OverflowError': <class 'OverflowError'>, 'ZeroDivisionError': <class 'ZeroDivisionError'>, 'SystemError': <class 'SystemError'>, 'ReferenceError': <class 'ReferenceError'>, 'MemoryError': <class 'MemoryError'>, 'BufferError': <class 'BufferError'>, 'Warning': <class 'Warning'>, 'UserWarning': <class 'UserWarning'>, 'DeprecationWarning': <class 'DeprecationWarning'>, 'PendingDeprecationWarning': <class 'PendingDeprecationWarning'>, 'SyntaxWarning': <class 'SyntaxWarning'>, 'RuntimeWarning': <class 'RuntimeWarning'>, 'FutureWarning': <class 'FutureWarning'>, 'ImportWarning': <class 'ImportWarning'>, 'UnicodeWarning': <class 'UnicodeWarning'>, 'BytesWarning': <class 'BytesWarning'>, 'ResourceWarning': <class 'ResourceWarning'>, 'ConnectionError': <class 'ConnectionError'>, 'BlockingIOError': <class 'BlockingIOError'>, 'BrokenPipeError': <class 'BrokenPipeError'>, 'ChildProcessError': <class 'ChildProcessError'>, 'ConnectionAbortedError': <class 'ConnectionAbortedError'>, 'ConnectionRefusedError': <class 'ConnectionRefusedError'>, 'ConnectionResetError': <class 'ConnectionResetError'>, 'FileExistsError': <class 'FileExistsError'>, 'FileNotFoundError': <class 'FileNotFoundError'>, 'IsADirectoryError': <class 'IsADirectoryError'>, 'NotADirectoryError': <class 'NotADirectoryError'>, 'InterruptedError': <class 'InterruptedError'>, 'PermissionError': <class 'PermissionError'>, 'ProcessLookupError': <class 'ProcessLookupError'>, 'TimeoutError': <class 'TimeoutError'>, 'open': <built-in function open>, 'copyright': Copyright (c) 2001-2021 Python Software Foundation.\n",
      "All Rights Reserved.\n",
      "\n",
      "Copyright (c) 2000 BeOpen.com.\n",
      "All Rights Reserved.\n",
      "\n",
      "Copyright (c) 1995-2001 Corporation for National Research Initiatives.\n",
      "All Rights Reserved.\n",
      "\n",
      "Copyright (c) 1991-1995 Stichting Mathematisch Centrum, Amsterdam.\n",
      "All Rights Reserved., 'credits':     Thanks to CWI, CNRI, BeOpen.com, Zope Corporation and a cast of thousands\n",
      "    for supporting Python development.  See www.python.org for more information., 'license': Type license() to see the full license text, 'help': Type help() for interactive help, or help(object) for help about object., 'execfile': <function execfile at 0x7f482c3e0ca0>, 'runfile': <function runfile at 0x7f482c307af0>, '__IPYTHON__': True, 'display': <function display at 0x7f482e6ad9d0>, '__pybind11_internals_v4_gcc_libstdcpp_cxxabi1014__': <capsule object NULL at 0x7f48001b25a0>, 'get_ipython': <bound method InteractiveShell.get_ipython of <ipykernel.zmqshell.ZMQInteractiveShell object at 0x7f482bde7700>>}), ('__cached__', '/home/yamin_khan/.local/lib/python3.9/site-packages/sklearn/datasets/__pycache__/__init__.cpython-39.pyc'), ('__doc__', '\\nThe :mod:`sklearn.datasets` module includes utilities to load datasets,\\nincluding methods to load and fetch popular reference datasets. It also\\nfeatures some artificial data generators.\\n'), ('__file__', '/home/yamin_khan/.local/lib/python3.9/site-packages/sklearn/datasets/__init__.py'), ('__loader__', <_frozen_importlib_external.SourceFileLoader object at 0x7f482859e700>), ('__name__', 'sklearn.datasets'), ('__package__', 'sklearn.datasets'), ('__path__', ['/home/yamin_khan/.local/lib/python3.9/site-packages/sklearn/datasets']), ('__spec__', ModuleSpec(name='sklearn.datasets', loader=<_frozen_importlib_external.SourceFileLoader object at 0x7f482859e700>, origin='/home/yamin_khan/.local/lib/python3.9/site-packages/sklearn/datasets/__init__.py', submodule_search_locations=['/home/yamin_khan/.local/lib/python3.9/site-packages/sklearn/datasets'])), ('_base', <module 'sklearn.datasets._base' from '/home/yamin_khan/.local/lib/python3.9/site-packages/sklearn/datasets/_base.py'>), ('_california_housing', <module 'sklearn.datasets._california_housing' from '/home/yamin_khan/.local/lib/python3.9/site-packages/sklearn/datasets/_california_housing.py'>), ('_covtype', <module 'sklearn.datasets._covtype' from '/home/yamin_khan/.local/lib/python3.9/site-packages/sklearn/datasets/_covtype.py'>), ('_kddcup99', <module 'sklearn.datasets._kddcup99' from '/home/yamin_khan/.local/lib/python3.9/site-packages/sklearn/datasets/_kddcup99.py'>), ('_lfw', <module 'sklearn.datasets._lfw' from '/home/yamin_khan/.local/lib/python3.9/site-packages/sklearn/datasets/_lfw.py'>), ('_olivetti_faces', <module 'sklearn.datasets._olivetti_faces' from '/home/yamin_khan/.local/lib/python3.9/site-packages/sklearn/datasets/_olivetti_faces.py'>), ('_openml', <module 'sklearn.datasets._openml' from '/home/yamin_khan/.local/lib/python3.9/site-packages/sklearn/datasets/_openml.py'>), ('_rcv1', <module 'sklearn.datasets._rcv1' from '/home/yamin_khan/.local/lib/python3.9/site-packages/sklearn/datasets/_rcv1.py'>), ('_samples_generator', <module 'sklearn.datasets._samples_generator' from '/home/yamin_khan/.local/lib/python3.9/site-packages/sklearn/datasets/_samples_generator.py'>), ('_species_distributions', <module 'sklearn.datasets._species_distributions' from '/home/yamin_khan/.local/lib/python3.9/site-packages/sklearn/datasets/_species_distributions.py'>), ('_svmlight_format_fast', <module 'sklearn.datasets._svmlight_format_fast' from '/home/yamin_khan/.local/lib/python3.9/site-packages/sklearn/datasets/_svmlight_format_fast.cpython-39-x86_64-linux-gnu.so'>), ('_svmlight_format_io', <module 'sklearn.datasets._svmlight_format_io' from '/home/yamin_khan/.local/lib/python3.9/site-packages/sklearn/datasets/_svmlight_format_io.py'>), ('_twenty_newsgroups', <module 'sklearn.datasets._twenty_newsgroups' from '/home/yamin_khan/.local/lib/python3.9/site-packages/sklearn/datasets/_twenty_newsgroups.py'>), ('clear_data_home', <function clear_data_home at 0x7f47ee2fee50>), ('data', <module 'sklearn.datasets.data' from '/home/yamin_khan/.local/lib/python3.9/site-packages/sklearn/datasets/data/__init__.py'>), ('descr', <module 'sklearn.datasets.descr' from '/home/yamin_khan/.local/lib/python3.9/site-packages/sklearn/datasets/descr/__init__.py'>), ('dump_svmlight_file', <function dump_svmlight_file at 0x7f47ee18eee0>), ('fetch_20newsgroups', <function fetch_20newsgroups at 0x7f47ee2ab430>), ('fetch_20newsgroups_vectorized', <function fetch_20newsgroups_vectorized at 0x7f47ee174160>), ('fetch_california_housing', <function fetch_california_housing at 0x7f47edfda280>), ('fetch_covtype', <function fetch_covtype at 0x7f47ee300af0>), ('fetch_kddcup99', <function fetch_kddcup99 at 0x7f47ee300ca0>), ('fetch_lfw_pairs', <function fetch_lfw_pairs at 0x7f47ee306160>), ('fetch_lfw_people', <function fetch_lfw_people at 0x7f47ee306040>), ('fetch_olivetti_faces', <function fetch_olivetti_faces at 0x7f47ee191160>), ('fetch_openml', <function fetch_openml at 0x7f47ee184700>), ('fetch_rcv1', <function fetch_rcv1 at 0x7f47edfda310>), ('fetch_species_distributions', <function fetch_species_distributions at 0x7f47edfda0d0>), ('get_data_home', <function get_data_home at 0x7f47ee340280>), ('load_boston', <function load_boston at 0x7f47ee3005e0>), ('load_breast_cancer', <function load_breast_cancer at 0x7f47ee300310>), ('load_diabetes', <function load_diabetes at 0x7f47ee300430>), ('load_digits', <function load_digits at 0x7f47ee3003a0>), ('load_files', <function load_files at 0x7f47ee2fef70>), ('load_iris', <function load_iris at 0x7f47ee300280>), ('load_linnerud', <function load_linnerud at 0x7f47ee3004c0>), ('load_sample_image', <function load_sample_image at 0x7f47ee300700>), ('load_sample_images', <function load_sample_images at 0x7f47ee300670>), ('load_svmlight_file', <function load_svmlight_file at 0x7f47ee18ec10>), ('load_svmlight_files', <function load_svmlight_files at 0x7f47ee18edc0>), ('load_wine', <function load_wine at 0x7f47ee3001f0>), ('make_biclusters', <function make_biclusters at 0x7f47ee18e9d0>), ('make_blobs', <function make_blobs at 0x7f47ee18e280>), ('make_checkerboard', <function make_checkerboard at 0x7f47ee18ea60>), ('make_circles', <function make_circles at 0x7f47ee18e160>), ('make_classification', <function make_classification at 0x7f47ee184ee0>), ('make_friedman1', <function make_friedman1 at 0x7f47ee18e310>), ('make_friedman2', <function make_friedman2 at 0x7f47ee18e3a0>), ('make_friedman3', <function make_friedman3 at 0x7f47ee18e430>), ('make_gaussian_quantiles', <function make_gaussian_quantiles at 0x7f47ee18e8b0>), ('make_hastie_10_2', <function make_hastie_10_2 at 0x7f47ee18e040>), ('make_low_rank_matrix', <function make_low_rank_matrix at 0x7f47ee18e4c0>), ('make_moons', <function make_moons at 0x7f47ee18e1f0>), ('make_multilabel_classification', <function make_multilabel_classification at 0x7f47ee184f70>), ('make_regression', <function make_regression at 0x7f47ee18e0d0>), ('make_s_curve', <function make_s_curve at 0x7f47ee18e820>), ('make_sparse_coded_signal', <function make_sparse_coded_signal at 0x7f47ee18e550>), ('make_sparse_spd_matrix', <function make_sparse_spd_matrix at 0x7f47ee18e700>), ('make_sparse_uncorrelated', <function make_sparse_uncorrelated at 0x7f47ee18e5e0>), ('make_spd_matrix', <function make_spd_matrix at 0x7f47ee18e670>), ('make_swiss_roll', <function make_swiss_roll at 0x7f47ee18e790>)]\n"
     ]
    }
   ],
   "source": [
    "import inspect\n",
    "\n",
    "print(inspect.getmembers(datasets))"
   ]
  },
  {
   "cell_type": "code",
   "execution_count": 23,
   "metadata": {},
   "outputs": [
    {
     "name": "stdout",
     "output_type": "stream",
     "text": [
      "(100, 4) (50, 4) (100,) (50,)\n"
     ]
    }
   ],
   "source": [
    "from sklearn.model_selection import train_test_split\n",
    "\n",
    "X_train, X_test, y_train, y_test = train_test_split(X,y,test_size=20)\n",
    "\n",
    "print(X_train.shape, X_test.shape, y_train.shape, y_test.shape)"
   ]
  },
  {
   "cell_type": "code",
   "execution_count": 25,
   "metadata": {},
   "outputs": [
    {
     "name": "stdout",
     "output_type": "stream",
     "text": [
      "real class [1 1 1 1 2 2 2 2 0 1 0 2 0 0 1 0 0 1 2 1 1 0 1 0 2 2 2 0 1 0 1 1 2 2 0 0 2\n",
      " 2 1 0 1 1 1 0 0 2 1 2 2 2] \n",
      "prediction [2 1 1 1 2 2 2 2 0 1 0 2 0 0 1 0 0 1 2 1 1 0 1 0 2 2 2 0 1 0 1 1 2 2 0 0 2\n",
      " 2 1 0 1 1 1 0 0 2 1 2 2 2] \n",
      "accuracy 0.98\n"
     ]
    }
   ],
   "source": [
    "from sklearn import neighbors\n",
    "from sklearn import metrics\n",
    "\n",
    "knn= neighbors.KNeighborsClassifier(n_neighbors=15,weights=\"distance\")\n",
    "knn.fit(X_train, y_train)\n",
    "prediction= knn.predict(X_test)\n",
    "accuracy= metrics.accuracy_score(y_test,prediction)\n",
    "\n",
    "print(\"real class\", y_test, \"\\nprediction\", prediction,\"\\naccuracy\", accuracy)"
   ]
  },
  {
   "cell_type": "code",
   "execution_count": null,
   "metadata": {},
   "outputs": [],
   "source": []
  },
  {
   "cell_type": "code",
   "execution_count": 24,
   "metadata": {},
   "outputs": [
    {
     "name": "stdout",
     "output_type": "stream",
     "text": [
      "real class [1 1 1 1 2 2 2 2 0 1 0 2 0 0 1 0 0 1 2 1 1 0 1 0 2 2 2 0 1 0 1 1 2 2 0 0 2\n",
      " 2 1 0 1 1 1 0 0 2 1 2 2 2] \n",
      "prediction [1 1 1 1 2 2 2 2 0 1 0 2 0 0 1 0 0 1 2 1 1 0 1 0 2 1 2 0 1 0 1 1 2 2 0 0 1\n",
      " 2 1 0 1 1 1 0 0 2 1 2 2 2] \n",
      "accuracy 0.96\n"
     ]
    }
   ],
   "source": [
    "\n",
    "from sklearn import svm\n",
    "from sklearn import metrics\n",
    "svc = svm.SVC()\n",
    "svc.fit(X_train, y_train)\n",
    "\n",
    "\n",
    "prediction= svc.predict(X_test)\n",
    "accuracy= metrics.accuracy_score(y_test,prediction)\n",
    "\n",
    "print(\"real class\", y_test, \"\\nprediction\", prediction,\"\\naccuracy\", accuracy)"
   ]
  },
  {
   "cell_type": "code",
   "execution_count": 30,
   "metadata": {},
   "outputs": [
    {
     "name": "stdout",
     "output_type": "stream",
     "text": [
      "   vhigh vhigh.1  2 2.1  small   low  unacc\n",
      "0  vhigh   vhigh  2   2  small   med  unacc\n",
      "1  vhigh   vhigh  2   2  small  high  unacc\n",
      "2  vhigh   vhigh  2   2    med   low  unacc\n",
      "3  vhigh   vhigh  2   2    med   med  unacc\n",
      "4  vhigh   vhigh  2   2    med  high  unacc\n"
     ]
    }
   ],
   "source": [
    "import pandas as pd\n",
    "car_data = pd.read_csv(\"/home/yamin_khan/Downloads/Documents/car.data\")\n",
    "print(car_data.head())\n",
    "\n"
   ]
  },
  {
   "cell_type": "code",
   "execution_count": 32,
   "metadata": {},
   "outputs": [
    {
     "name": "stdout",
     "output_type": "stream",
     "text": [
      "  Buying  Maint Doors Persons Lug_boot Safety  Class\n",
      "0  vhigh  vhigh     2       2    small    med  unacc\n",
      "1  vhigh  vhigh     2       2    small   high  unacc\n",
      "2  vhigh  vhigh     2       2      med    low  unacc\n",
      "3  vhigh  vhigh     2       2      med    med  unacc\n",
      "4  vhigh  vhigh     2       2      med   high  unacc\n"
     ]
    }
   ],
   "source": [
    "#editing column names\n",
    "car_data.columns = ['Buying', 'Maint', 'Doors', 'Persons', 'Lug_boot', 'Safety','Class']\n",
    "print(car_data.head())\n"
   ]
  },
  {
   "cell_type": "code",
   "execution_count": 34,
   "metadata": {},
   "outputs": [
    {
     "name": "stdout",
     "output_type": "stream",
     "text": [
      "<class 'pandas.core.frame.DataFrame'>\n",
      "  Buying  Maint Safety\n",
      "0  vhigh  vhigh    med\n",
      "1  vhigh  vhigh   high\n",
      "2  vhigh  vhigh    low\n",
      "3  vhigh  vhigh    med\n",
      "4  vhigh  vhigh   high\n",
      "   Class\n",
      "0  unacc\n",
      "1  unacc\n",
      "2  unacc\n",
      "3  unacc\n",
      "4  unacc\n"
     ]
    }
   ],
   "source": [
    "X = car_data[['Buying', \"Maint\", 'Safety']]\n",
    "y = car_data[[\"Class\"]]\n",
    "print(type(X))\n",
    "print(X.head(5))\n",
    "print(y.head())"
   ]
  },
  {
   "cell_type": "code",
   "execution_count": 37,
   "metadata": {},
   "outputs": [
    {
     "name": "stdout",
     "output_type": "stream",
     "text": [
      "      Buying  Maint  Safety\n",
      "0          3      3       2\n",
      "1          3      3       0\n",
      "2          3      3       1\n",
      "3          3      3       2\n",
      "4          3      3       0\n",
      "...      ...    ...     ...\n",
      "1722       1      1       2\n",
      "1723       1      1       0\n",
      "1724       1      1       1\n",
      "1725       1      1       2\n",
      "1726       1      1       0\n",
      "\n",
      "[1727 rows x 3 columns]\n"
     ]
    }
   ],
   "source": [
    "from sklearn.preprocessing import LabelEncoder\n",
    "X = X.apply(LabelEncoder().fit_transform)   #\"apply\" works on every row and column\n",
    "\n",
    "print (X)"
   ]
  },
  {
   "cell_type": "code",
   "execution_count": 38,
   "metadata": {},
   "outputs": [
    {
     "name": "stderr",
     "output_type": "stream",
     "text": [
      "/tmp/ipykernel_109304/370978882.py:8: SettingWithCopyWarning: \n",
      "A value is trying to be set on a copy of a slice from a DataFrame.\n",
      "Try using .loc[row_indexer,col_indexer] = value instead\n",
      "\n",
      "See the caveats in the documentation: https://pandas.pydata.org/pandas-docs/stable/user_guide/indexing.html#returning-a-view-versus-a-copy\n",
      "  y['Class'] = pd.array(y['Class'].map(dictionary_map))\n"
     ]
    }
   ],
   "source": [
    "dictionary_map = {\n",
    "    'unacc': 0, \n",
    "    'acc' : 1,\n",
    "    'good':2,\n",
    "    'vgood':3\n",
    "    }\n",
    "\n",
    "y['Class'] = pd.array(y['Class'].map(dictionary_map))\n",
    "#old and  . better not use it ."
   ]
  },
  {
   "cell_type": "code",
   "execution_count": 39,
   "metadata": {},
   "outputs": [
    {
     "name": "stdout",
     "output_type": "stream",
     "text": [
      "      Class\n",
      "1722      2\n",
      "1723      3\n",
      "1724      0\n",
      "1725      2\n",
      "1726      3\n"
     ]
    }
   ],
   "source": [
    "print(y.tail())"
   ]
  },
  {
   "cell_type": "code",
   "execution_count": 40,
   "metadata": {},
   "outputs": [
    {
     "name": "stdout",
     "output_type": "stream",
     "text": [
      "(1707, 3) (20, 3) (1707, 1) (20, 1)\n"
     ]
    }
   ],
   "source": [
    "X_train, X_test, y_train, y_test = train_test_split(X,y,test_size=20)\n",
    "\n",
    "print(X_train.shape, X_test.shape, y_train.shape, y_test.shape)"
   ]
  },
  {
   "cell_type": "code",
   "execution_count": 41,
   "metadata": {},
   "outputs": [
    {
     "name": "stdout",
     "output_type": "stream",
     "text": [
      "real class       Class\n",
      "979       0\n",
      "1149      1\n",
      "883       0\n",
      "1426      1\n",
      "207       0\n",
      "1406      0\n",
      "1547      0\n",
      "1622      0\n",
      "518       0\n",
      "844       0\n",
      "53        0\n",
      "1283      0\n",
      "451       0\n",
      "550       1\n",
      "1601      0\n",
      "693       0\n",
      "1641      1\n",
      "596       0\n",
      "586       1\n",
      "1567      0 \n",
      "prediction [1 1 1 3 0 0 0 0 0 1 0 0 0 1 0 0 0 0 1 2] \n",
      "accuracy 0.7\n"
     ]
    },
    {
     "name": "stderr",
     "output_type": "stream",
     "text": [
      "/home/yamin_khan/.local/lib/python3.9/site-packages/sklearn/neighbors/_classification.py:198: DataConversionWarning: A column-vector y was passed when a 1d array was expected. Please change the shape of y to (n_samples,), for example using ravel().\n",
      "  return self._fit(X, y)\n"
     ]
    }
   ],
   "source": [
    "knn= neighbors.KNeighborsClassifier(n_neighbors=15,weights=\"distance\")\n",
    "knn.fit(X_train, y_train)\n",
    "prediction= knn.predict(X_test)\n",
    "accuracy= metrics.accuracy_score(y_test,prediction)\n",
    "\n",
    "print(\"real class\", y_test, \"\\nprediction\", prediction,\"\\naccuracy\", accuracy)"
   ]
  },
  {
   "cell_type": "code",
   "execution_count": 62,
   "metadata": {},
   "outputs": [
    {
     "name": "stdout",
     "output_type": "stream",
     "text": [
      "      Class\n",
      "979       0\n",
      "1149      1\n",
      "883       0\n",
      "1426      1\n",
      "207       0\n",
      "1406      0\n",
      "1547      0\n",
      "1622      0\n",
      "518       0\n",
      "844       0\n",
      "53        0\n",
      "1283      0\n",
      "451       0\n",
      "550       1\n",
      "1601      0\n",
      "693       0\n",
      "1641      1\n",
      "596       0\n",
      "586       1\n",
      "1567      0 \n",
      "prediction [0 0 1 1 0 0 0 0 0 1 0 0 0 1 0 0 0 0 1 0] \n",
      "accuracy 0.8\n"
     ]
    },
    {
     "name": "stderr",
     "output_type": "stream",
     "text": [
      "/home/yamin_khan/.local/lib/python3.9/site-packages/sklearn/utils/validation.py:993: DataConversionWarning: A column-vector y was passed when a 1d array was expected. Please change the shape of y to (n_samples, ), for example using ravel().\n",
      "  y = column_or_1d(y, warn=True)\n"
     ]
    }
   ],
   "source": [
    "svc = svm.SVC()\n",
    "svc.fit(X_train, y_train)\n",
    "\n",
    "\n",
    "prediction= svc.predict(X_test)\n",
    "accuracy= metrics.accuracy_score(y_test,prediction)\n",
    "\n",
    "print(y_test,\"\\nprediction\", prediction,\"\\naccuracy\", accuracy)"
   ]
  }
 ],
 "metadata": {
  "interpreter": {
   "hash": "e7370f93d1d0cde622a1f8e1c04877d8463912d04d973331ad4851f04de6915a"
  },
  "kernelspec": {
   "display_name": "Python 3.9.7 64-bit",
   "language": "python",
   "name": "python3"
  },
  "language_info": {
   "codemirror_mode": {
    "name": "ipython",
    "version": 3
   },
   "file_extension": ".py",
   "mimetype": "text/x-python",
   "name": "python",
   "nbconvert_exporter": "python",
   "pygments_lexer": "ipython3",
   "version": "3.9.7"
  },
  "orig_nbformat": 4
 },
 "nbformat": 4,
 "nbformat_minor": 2
}
