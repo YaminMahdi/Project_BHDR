{
  "cells": [
    {
      "cell_type": "code",
      "execution_count": 3,
      "metadata": {
        "colab": {
          "base_uri": "https://localhost:8080/",
          "height": 89
        },
        "id": "X8Yf50PsjHIe",
        "outputId": "7cdc3abf-bb4a-4b19-9f50-2de65ddbe41c"
      },
      "outputs": [
        {
          "name": "stdout",
          "output_type": "stream",
          "text": [
            "name     kafi\n",
            "first      Ab\n",
            "Name: info, dtype: object\n"
          ]
        },
        {
          "data": {
            "text/plain": [
              "'Ab'"
            ]
          },
          "execution_count": 3,
          "metadata": {},
          "output_type": "execute_result"
        }
      ],
      "source": [
        "import pandas as pd\n",
        "import numpy as np\n",
        "\n",
        "#https://pandas.pydata.org/docs/index.html\n",
        "\n",
        "#series\n",
        "\n",
        "#from normal list\n",
        "\n",
        "datalist = ['a', 'b', 'c', 'd']\n",
        "label = ['1','2','3','4']\n",
        "series= pd.Series(data=datalist, index=label)\n",
        "#print(series)\n",
        "\n",
        "#from np array\n",
        "array = np.array([1,2,3,4])\n",
        "series2 = pd.Series(array)\n",
        "#print(series2)\n",
        "\n",
        "#from dictionary\n",
        "dictionary = {'name': 'kafi', 'first': 'Ab'}\n",
        "series3 = pd.Series(dictionary,name=\"info\")\n",
        "print(series3)\n",
        "\n",
        "#accessing data type \n",
        "series['1']\n",
        "series[1]\n",
        "series3[\"name\"]\n",
        "series3[1]\n",
        "\n",
        "#series2.dtype\n",
        "\n",
        "#math op (need same index)\n"
      ]
    },
    {
      "cell_type": "code",
      "execution_count": 6,
      "metadata": {
        "colab": {
          "base_uri": "https://localhost:8080/"
        },
        "id": "k7tqw-3-n3Wi",
        "outputId": "a8019d65-cc0b-4561-b646-d955a0f19b94"
      },
      "outputs": [
        {
          "name": "stdout",
          "output_type": "stream",
          "text": [
            "<class 'numpy.ndarray'>\n",
            "<class 'pandas.core.frame.DataFrame'>\n"
          ]
        }
      ],
      "source": [
        "#dataframe\n",
        "print(type(array))\n",
        "\n",
        "df = pd.DataFrame(dictionary, index = ['index1','index2'] )\n",
        "\n",
        "print(type(df))"
      ]
    },
    {
      "cell_type": "code",
      "execution_count": null,
      "metadata": {
        "colab": {
          "base_uri": "https://localhost:8080/"
        },
        "id": "6mjBEOyrrEKS",
        "outputId": "5145b2bd-b291-4c04-fc65-d4528db9e09e"
      },
      "outputs": [
        {
          "name": "stdout",
          "output_type": "stream",
          "text": [
            "(2, 3)\n"
          ]
        }
      ],
      "source": [
        "array = np.random.randint(10,15, size=(2,4))\n",
        "df = pd.DataFrame(array,['index1','index2'],['column1','column2','column3','column4'])\n",
        "df\n",
        "\n",
        "# assign the keys as row labels and column labels separate\n",
        "# with orient='index'\n",
        "\n",
        "df=pd.DataFrame.from_dict(dict([('A', [1,2,3]), ('B', [4,5,6])]),\n",
        "                      orient='index', columns=['one','two','three'])\n",
        "\n",
        "# Get number of rows and columns as tuple\n",
        "print(df.shape)\n"
      ]
    },
    {
      "cell_type": "code",
      "execution_count": null,
      "metadata": {
        "colab": {
          "base_uri": "https://localhost:8080/"
        },
        "id": "jIfVBQKKrqAs",
        "outputId": "203772f6-8d83-4f2e-a7a7-2e21dfe61a68"
      },
      "outputs": [
        {
          "name": "stdout",
          "output_type": "stream",
          "text": [
            "   one  two  three  new\n",
            "A  1.0  2.0    3.0  3.0\n",
            "B  4.0  5.0    6.0  9.0\n",
            "C  3.0  4.0   19.0  NaN\n",
            "\n",
            "\n",
            "   one  two  three  new\n",
            "A  1.0  2.0    3.0  3.0\n",
            "B  4.0  5.0    6.0  9.0\n"
          ]
        }
      ],
      "source": [
        "#working with data frame\n",
        "print(df)\n",
        "print()\n",
        "print()\n",
        "#accessing column\n",
        "#print(df[['one','two']])\n",
        "#accessing row\n",
        "df.loc[\"A\"]\n",
        "df.iloc[1]\n",
        "#accessing row and colums both\n",
        "x = df.loc[['A','B'], ['one','three']]\n",
        "#print(x)\n",
        "\n",
        "#adding new dataframe column\n",
        "\n",
        "df['new'] = df['one'] + df['two']\n",
        "#print(df)\n",
        "\n",
        "#adding new row 1.create a row and then append it to the dataframe\n",
        "dictionary = {'one':3,'two':4, 'three': 19}\n",
        "series= pd.Series(dictionary, name = 'C')\n",
        "df = df.append(series) #it isn't inplace \n",
        "#print(df)\n",
        "\n",
        "#delete column\n",
        "x = df.drop('new', axis=1) #not inplace=true\n",
        "#print(x)\n",
        "#print(df)\n",
        "\n",
        "#delete row\n",
        "x = df.drop('C', axis=0) #not inplace=true\n",
        "#print(x)"
      ]
    },
    {
      "cell_type": "code",
      "execution_count": null,
      "metadata": {
        "colab": {
          "base_uri": "https://localhost:8080/",
          "height": 175
        },
        "id": "jTpDsY-Ys1sp",
        "outputId": "a4006689-59a3-4b35-ce10-d30107bc3c90"
      },
      "outputs": [
        {
          "data": {
            "text/html": [
              "\n",
              "  <div id=\"df-68497990-b413-49ff-a9e1-ffd6bf2c21e3\">\n",
              "    <div class=\"colab-df-container\">\n",
              "      <div>\n",
              "<style scoped>\n",
              "    .dataframe tbody tr th:only-of-type {\n",
              "        vertical-align: middle;\n",
              "    }\n",
              "\n",
              "    .dataframe tbody tr th {\n",
              "        vertical-align: top;\n",
              "    }\n",
              "\n",
              "    .dataframe thead th {\n",
              "        text-align: right;\n",
              "    }\n",
              "</style>\n",
              "<table border=\"1\" class=\"dataframe\">\n",
              "  <thead>\n",
              "    <tr style=\"text-align: right;\">\n",
              "      <th></th>\n",
              "      <th>one</th>\n",
              "      <th>two</th>\n",
              "      <th>three</th>\n",
              "      <th>new</th>\n",
              "      <th>div</th>\n",
              "    </tr>\n",
              "  </thead>\n",
              "  <tbody>\n",
              "    <tr>\n",
              "      <th>A</th>\n",
              "      <td>1.0</td>\n",
              "      <td>2.0</td>\n",
              "      <td>3.0</td>\n",
              "      <td>3.0</td>\n",
              "      <td>0.50</td>\n",
              "    </tr>\n",
              "    <tr>\n",
              "      <th>B</th>\n",
              "      <td>4.0</td>\n",
              "      <td>5.0</td>\n",
              "      <td>6.0</td>\n",
              "      <td>9.0</td>\n",
              "      <td>0.80</td>\n",
              "    </tr>\n",
              "    <tr>\n",
              "      <th>C</th>\n",
              "      <td>3.0</td>\n",
              "      <td>4.0</td>\n",
              "      <td>19.0</td>\n",
              "      <td>7.0</td>\n",
              "      <td>0.75</td>\n",
              "    </tr>\n",
              "    <tr>\n",
              "      <th>C</th>\n",
              "      <td>3.0</td>\n",
              "      <td>4.0</td>\n",
              "      <td>19.0</td>\n",
              "      <td>NaN</td>\n",
              "      <td>0.75</td>\n",
              "    </tr>\n",
              "  </tbody>\n",
              "</table>\n",
              "</div>\n",
              "      <button class=\"colab-df-convert\" onclick=\"convertToInteractive('df-68497990-b413-49ff-a9e1-ffd6bf2c21e3')\"\n",
              "              title=\"Convert this dataframe to an interactive table.\"\n",
              "              style=\"display:none;\">\n",
              "        \n",
              "  <svg xmlns=\"http://www.w3.org/2000/svg\" height=\"24px\"viewBox=\"0 0 24 24\"\n",
              "       width=\"24px\">\n",
              "    <path d=\"M0 0h24v24H0V0z\" fill=\"none\"/>\n",
              "    <path d=\"M18.56 5.44l.94 2.06.94-2.06 2.06-.94-2.06-.94-.94-2.06-.94 2.06-2.06.94zm-11 1L8.5 8.5l.94-2.06 2.06-.94-2.06-.94L8.5 2.5l-.94 2.06-2.06.94zm10 10l.94 2.06.94-2.06 2.06-.94-2.06-.94-.94-2.06-.94 2.06-2.06.94z\"/><path d=\"M17.41 7.96l-1.37-1.37c-.4-.4-.92-.59-1.43-.59-.52 0-1.04.2-1.43.59L10.3 9.45l-7.72 7.72c-.78.78-.78 2.05 0 2.83L4 21.41c.39.39.9.59 1.41.59.51 0 1.02-.2 1.41-.59l7.78-7.78 2.81-2.81c.8-.78.8-2.07 0-2.86zM5.41 20L4 18.59l7.72-7.72 1.47 1.35L5.41 20z\"/>\n",
              "  </svg>\n",
              "      </button>\n",
              "      \n",
              "  <style>\n",
              "    .colab-df-container {\n",
              "      display:flex;\n",
              "      flex-wrap:wrap;\n",
              "      gap: 12px;\n",
              "    }\n",
              "\n",
              "    .colab-df-convert {\n",
              "      background-color: #E8F0FE;\n",
              "      border: none;\n",
              "      border-radius: 50%;\n",
              "      cursor: pointer;\n",
              "      display: none;\n",
              "      fill: #1967D2;\n",
              "      height: 32px;\n",
              "      padding: 0 0 0 0;\n",
              "      width: 32px;\n",
              "    }\n",
              "\n",
              "    .colab-df-convert:hover {\n",
              "      background-color: #E2EBFA;\n",
              "      box-shadow: 0px 1px 2px rgba(60, 64, 67, 0.3), 0px 1px 3px 1px rgba(60, 64, 67, 0.15);\n",
              "      fill: #174EA6;\n",
              "    }\n",
              "\n",
              "    [theme=dark] .colab-df-convert {\n",
              "      background-color: #3B4455;\n",
              "      fill: #D2E3FC;\n",
              "    }\n",
              "\n",
              "    [theme=dark] .colab-df-convert:hover {\n",
              "      background-color: #434B5C;\n",
              "      box-shadow: 0px 1px 3px 1px rgba(0, 0, 0, 0.15);\n",
              "      filter: drop-shadow(0px 1px 2px rgba(0, 0, 0, 0.3));\n",
              "      fill: #FFFFFF;\n",
              "    }\n",
              "  </style>\n",
              "\n",
              "      <script>\n",
              "        const buttonEl =\n",
              "          document.querySelector('#df-68497990-b413-49ff-a9e1-ffd6bf2c21e3 button.colab-df-convert');\n",
              "        buttonEl.style.display =\n",
              "          google.colab.kernel.accessAllowed ? 'block' : 'none';\n",
              "\n",
              "        async function convertToInteractive(key) {\n",
              "          const element = document.querySelector('#df-68497990-b413-49ff-a9e1-ffd6bf2c21e3');\n",
              "          const dataTable =\n",
              "            await google.colab.kernel.invokeFunction('convertToInteractive',\n",
              "                                                     [key], {});\n",
              "          if (!dataTable) return;\n",
              "\n",
              "          const docLinkHtml = 'Like what you see? Visit the ' +\n",
              "            '<a target=\"_blank\" href=https://colab.research.google.com/notebooks/data_table.ipynb>data table notebook</a>'\n",
              "            + ' to learn more about interactive tables.';\n",
              "          element.innerHTML = '';\n",
              "          dataTable['output_type'] = 'display_data';\n",
              "          await google.colab.output.renderOutput(dataTable, element);\n",
              "          const docLink = document.createElement('div');\n",
              "          docLink.innerHTML = docLinkHtml;\n",
              "          element.appendChild(docLink);\n",
              "        }\n",
              "      </script>\n",
              "    </div>\n",
              "  </div>\n",
              "  "
            ],
            "text/plain": [
              "   one  two  three  new   div\n",
              "A  1.0  2.0    3.0  3.0  0.50\n",
              "B  4.0  5.0    6.0  9.0  0.80\n",
              "C  3.0  4.0   19.0  7.0  0.75\n",
              "C  3.0  4.0   19.0  NaN  0.75"
            ]
          },
          "execution_count": 64,
          "metadata": {},
          "output_type": "execute_result"
        }
      ],
      "source": [
        "df.assign(div=df['one'] / df['two'])\n"
      ]
    },
    {
      "cell_type": "code",
      "execution_count": null,
      "metadata": {
        "id": "pwWOAWQAzn3F"
      },
      "outputs": [],
      "source": [
        "#conditional, sorting, data passing and functions  : we will talk about them some other time"
      ]
    },
    {
      "cell_type": "code",
      "execution_count": null,
      "metadata": {
        "id": "kn4jCUPh0Flh"
      },
      "outputs": [],
      "source": [
        "#file I/O (read_ to_) (single column : \"usecols= [column_name],squeeze=True\")\n",
        "df = pd.read_csv('/content/sample_data/california_housing_train.csv')"
      ]
    },
    {
      "cell_type": "code",
      "execution_count": null,
      "metadata": {
        "id": "7baNcZ8t0WYd"
      },
      "outputs": [],
      "source": [
        "# print(df.head())\n",
        "# print(df.tail())\n",
        "# print(df.describe())\n",
        "# print(df.columns)\n",
        "# print(df.row)"
      ]
    },
    {
      "cell_type": "code",
      "execution_count": null,
      "metadata": {
        "colab": {
          "base_uri": "https://localhost:8080/"
        },
        "id": "hTuLmoNW5E4a",
        "outputId": "34f57318-69bd-448a-e620-ec05c708cc92"
      },
      "outputs": [
        {
          "data": {
            "text/plain": [
              "Index(['longitude', 'latitude', 'housing_median_age', 'total_rooms',\n",
              "       'total_bedrooms', 'population', 'households', 'median_income',\n",
              "       'median_house_value'],\n",
              "      dtype='object')"
            ]
          },
          "execution_count": 72,
          "metadata": {},
          "output_type": "execute_result"
        }
      ],
      "source": [
        "df.columns"
      ]
    },
    {
      "cell_type": "code",
      "execution_count": null,
      "metadata": {
        "id": "coF9EekH40PY"
      },
      "outputs": [],
      "source": [
        "# Get total count of both columns\n",
        "df.count()\n",
        "\n",
        "# skipna skips null / NaN values\n",
        "df.sum(skipna=True)\n",
        "# Get mean for named column\n",
        "df[\"median_income\"].mean()\n",
        "df[\"median_income\"].median()\n",
        "df[\"median_income\"].mode()\n",
        "df[\"median_income\"].min()\n",
        "df[\"median_income\"].max()\n",
        "df[\"median_income\"].prod() # Product of values\n",
        "df[\"median_income\"].std() # Standard deviation\n",
        "df[\"median_income\"].var() # Variance\n",
        "df[\"median_income\"].sem() # Standard error\n",
        "# Negative : Left long tail, Positive : Right long tail\n",
        "df[\"median_income\"].skew()\n",
        "# Kurtosis : < 3 less outliers, 3 Normal Distribution,\n",
        "# > 3 more outliers\n",
        "df[\"median_income\"].kurt()\n",
        "df[\"median_income\"].quantile(.5)\n",
        "df[\"median_income\"].cumsum()\n",
        "df[\"median_income\"].cumprod()\n",
        "df[\"median_income\"].cummax()\n",
        "df[\"median_income\"].cummin()\n",
        "\n",
        "# Multiple stats at once\n",
        "df.describe()\n",
        "\n"
      ]
    },
    {
      "cell_type": "code",
      "execution_count": null,
      "metadata": {
        "id": "HJLNcBl10b_O"
      },
      "outputs": [],
      "source": [
        "#missing data\n",
        "\n",
        "dict_4 = {'A': [1,2,np.nan], 'B': [4, np.nan, np.nan], 'C': [7.,8.,9.]}\n",
        "df_10 = pd.DataFrame(dict_4)\n",
        "print(df_10)\n",
        "\n",
        "# Drop missing data from DF (Drops any row with missing values)\n",
        "df_10.dropna()\n",
        "\n",
        "# # Drop all columns with any missing data\n",
        "# df_10.dropna(axis=1)\n",
        "\n",
        "# # Drop row unless it has at least 2 non-NaN values\n",
        "# df_10.dropna(thresh=2)\n",
        "\n",
        "# # Fill NaN values with 0\n",
        "# df_10.fillna(value=0.0)\n",
        "\n",
        "# # Fill A column with the mean of column\n",
        "# df_10['A'].fillna(value=df_10['A'].mean())\n",
        "\n",
        "# # Fill with previous value\n",
        "# df_10.fillna(method='ffill')\n",
        "\n",
        "# # Fill with next value (Only works if there is a next value)\n",
        "# df_10.fillna(method='bfill')\n"
      ]
    },
    {
      "cell_type": "code",
      "execution_count": null,
      "metadata": {
        "id": "uEmdlt4B5yBD"
      },
      "outputs": [],
      "source": []
    }
  ],
  "metadata": {
    "colab": {
      "collapsed_sections": [],
      "name": "Pandas.ipynb",
      "provenance": []
    },
    "kernelspec": {
      "display_name": "Python 3",
      "name": "python3"
    },
    "language_info": {
      "codemirror_mode": {
        "name": "ipython",
        "version": 3
      },
      "file_extension": ".py",
      "mimetype": "text/x-python",
      "name": "python",
      "nbconvert_exporter": "python",
      "pygments_lexer": "ipython3",
      "version": "3.9.7"
    }
  },
  "nbformat": 4,
  "nbformat_minor": 0
}
